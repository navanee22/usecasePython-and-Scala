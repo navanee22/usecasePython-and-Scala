{
 "cells": [
  {
   "cell_type": "code",
   "execution_count": null,
   "id": "e5911830-3747-4749-b61e-13f97d0f8393",
   "metadata": {},
   "outputs": [],
   "source": [
    "import findspark\n",
    "findspark.init()"
   ]
  },
  {
   "cell_type": "code",
   "execution_count": null,
   "id": "2eea2427-311e-4509-a3d0-f176bce33f14",
   "metadata": {},
   "outputs": [],
   "source": [
    "from pyspark.conf import SparkConf\n",
    "config = SparkConf()\n",
    "#config.set(\"property\", \"value\")\n",
    "config.setMaster(\"local\").setAppName(\"FileFormats\")\n",
    "\n",
    "from pyspark.sql import SparkSession\n",
    "spark = SparkSession.builder\\\n",
    "                    .config(conf=config)\\\n",
    "                    .getOrCreate()\n",
    "sc=spark.sparkContext"
   ]
  },
  {
   "cell_type": "code",
   "execution_count": null,
   "id": "ebb534b1-be6e-4a54-b7b1-2b64bfddf873",
   "metadata": {},
   "outputs": [],
   "source": [
    "rawTickDfDf = spark.read.format(\"csv\")\\\n",
    "                .option(\"header\",True)\\\n",
    "                .option(\"inferSchema\",True)\\\n",
    "                .load(\"hdfs://localhost:9000/layers/raw/csv/\")\n",
    "rawTickDfDf.printSchema()\n",
    "rawTickDfDf.show(5)"
   ]
  },
  {
   "cell_type": "code",
   "execution_count": null,
   "id": "8ee7de78-2c40-4ef8-a11a-7fbac523b1f6",
   "metadata": {},
   "outputs": [],
   "source": [
    " from pyspark.sql.functions import col\n",
    "    # .filter( (col(\"total_ratings\") >= 100) & (col(\"avg_rating\") >=3.5) )\\\n",
    "filterDf = rawTickDfDf.filter((col(\"price\") > 0.0 )&(col( \"volume\" )> 0)).drop(\"HOUR\",\"MIN\")\n",
    "#filterDf = rawTickDfDf.filter(\"(volume > 0)\")\n",
    "filterDf.show(5)"
   ]
  },
  {
   "cell_type": "code",
   "execution_count": null,
   "id": "7fed670d-12fa-4ebf-aea6-0889754de51d",
   "metadata": {},
   "outputs": [],
   "source": [
    "filterDf.write.partitionBy(\"YEAR\", \"MONTH\", \"DAY\",\"SYMBOL1\").mode(\"overwrite\").option(\"header\", True)\\\n",
    "                .parquet(\"hdfs://localhost:9000/layers/raw/parquet1\")"
   ]
  }
 ],
 "metadata": {
  "kernelspec": {
   "display_name": "Python 3 (ipykernel)",
   "language": "python",
   "name": "python3"
  },
  "language_info": {
   "codemirror_mode": {
    "name": "ipython",
    "version": 3
   },
   "file_extension": ".py",
   "mimetype": "text/x-python",
   "name": "python",
   "nbconvert_exporter": "python",
   "pygments_lexer": "ipython3",
   "version": "3.7.12"
  }
 },
 "nbformat": 4,
 "nbformat_minor": 5
}
