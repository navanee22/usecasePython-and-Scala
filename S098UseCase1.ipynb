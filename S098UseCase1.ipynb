{
 "cells": [
  {
   "cell_type": "code",
   "execution_count": 15,
   "id": "6618fea6-4723-4ddb-92af-7eb98b11fd96",
   "metadata": {},
   "outputs": [],
   "source": [
    "import os\n",
    "# save using vs code\n",
    "SCALA_VERSION = '2.12'\n",
    "SPARK_VERSION = '3.1.3'\n",
    "# Download Kafka Jar file, this for readStream.format(\"kafka\"), \"kafka\" is a driver\n",
    "# kafka driver code is part of Maven Jar file\n",
    "# https://mvnrepository.com/artifact/org.apache.spark/spark-sql-kafka-0-10_2.12/3.1.3\n",
    "# pyspark-shell shall download the jar file behind..\n",
    "os.environ['PYSPARK_SUBMIT_ARGS'] = f'--packages org.apache.spark:spark-sql-kafka-0-10_{SCALA_VERSION}:{SPARK_VERSION} pyspark-shell'"
   ]
  },
  {
   "cell_type": "code",
   "execution_count": 16,
   "id": "1c06c91e-7d75-4d92-98e3-57d300956e1e",
   "metadata": {},
   "outputs": [],
   "source": [
    "import findspark\n",
    "findspark.init()"
   ]
  },
  {
   "cell_type": "code",
   "execution_count": 17,
   "id": "facf9af8-a31f-4e92-9003-1ec630579621",
   "metadata": {},
   "outputs": [],
   "source": [
    "import pyspark\n",
    "from pyspark.sql import SparkSession\n",
    "spark =  SparkSession.builder.master(\"local[4]\").config('spark.sql.shuffle.partitions', 4).appName(\"usecase1\").getOrCreate()"
   ]
  },
  {
   "cell_type": "code",
   "execution_count": 18,
   "id": "9c31ad7d-4299-484c-8e7c-f2e0f42018ee",
   "metadata": {},
   "outputs": [],
   "source": [
    "kafkareadDf = spark.readStream.format(\"kafka\").option(\"kafka.bootstrap.servers\", \"localhost:9092\").option(\"subscribe\", \"stock-ticks\").option(\"group.id\", \"stock-ticks-group3-na123\").load()"
   ]
  },
  {
   "cell_type": "code",
   "execution_count": 19,
   "id": "5080c03f-431a-4dd8-990a-a16c30e77034",
   "metadata": {},
   "outputs": [
    {
     "name": "stdout",
     "output_type": "stream",
     "text": [
      "root\n",
      " |-- key: binary (nullable = true)\n",
      " |-- value: binary (nullable = true)\n",
      " |-- topic: string (nullable = true)\n",
      " |-- partition: integer (nullable = true)\n",
      " |-- offset: long (nullable = true)\n",
      " |-- timestamp: timestamp (nullable = true)\n",
      " |-- timestampType: integer (nullable = true)\n",
      "\n"
     ]
    }
   ],
   "source": [
    "kafkareadDf.printSchema()"
   ]
  },
  {
   "cell_type": "code",
   "execution_count": 20,
   "id": "37fb1922-e1e2-4408-8a78-e280716b65b0",
   "metadata": {},
   "outputs": [
    {
     "name": "stdout",
     "output_type": "stream",
     "text": [
      "root\n",
      " |-- value: string (nullable = true)\n",
      "\n"
     ]
    }
   ],
   "source": [
    "stockDf = kafkareadDf.selectExpr(\"CAST(value AS STRING)\")\n",
    "stockDf.printSchema()"
   ]
  },
  {
   "cell_type": "code",
   "execution_count": 21,
   "id": "8668a7b7-b31f-455a-8a63-d7af468ba5ca",
   "metadata": {},
   "outputs": [],
   "source": [
    "import pyspark.sql.functions as F\n",
    "from pyspark.sql.types import StructField, StructType, DoubleType, StringType, LongType, TimestampType\n",
    "\n",
    "schema = StructType([\n",
    "  StructField(\"symbol\", StringType(), True),\n",
    "    StructField(\"volume\", LongType(), True),\n",
    "     StructField(\"price\", DoubleType(), True),\n",
    "    StructField(\"timestamp\", LongType(),  True)  \n",
    "    \n",
    "]\n",
    ")"
   ]
  },
  {
   "cell_type": "code",
   "execution_count": 22,
   "id": "d0dfc590-f7df-4fb7-b7d9-2be36d06ca49",
   "metadata": {},
   "outputs": [
    {
     "name": "stdout",
     "output_type": "stream",
     "text": [
      "root\n",
      " |-- value: struct (nullable = true)\n",
      " |    |-- symbol: string (nullable = true)\n",
      " |    |-- volume: long (nullable = true)\n",
      " |    |-- price: double (nullable = true)\n",
      " |    |-- timestamp: long (nullable = true)\n",
      "\n"
     ]
    }
   ],
   "source": [
    "jsonStockDf = stockDf.withColumn(\"value\", F.from_json(\"value\",schema))\n",
    "jsonStockDf.printSchema()"
   ]
  },
  {
   "cell_type": "code",
   "execution_count": 23,
   "id": "31b1ca50-e1b0-4b36-a818-83f7143c5fd7",
   "metadata": {},
   "outputs": [
    {
     "name": "stdout",
     "output_type": "stream",
     "text": [
      "root\n",
      " |-- symbol: string (nullable = true)\n",
      " |-- volume: long (nullable = true)\n",
      " |-- price: double (nullable = true)\n",
      " |-- timestamp: long (nullable = true)\n",
      "\n"
     ]
    }
   ],
   "source": [
    "valueDf = jsonStockDf.select(\"value.*\")\n",
    "valueDf.printSchema()\n"
   ]
  },
  {
   "cell_type": "code",
   "execution_count": 24,
   "id": "84aad668-5c17-4a02-a5cb-ca7bf523ce8c",
   "metadata": {},
   "outputs": [
    {
     "name": "stdout",
     "output_type": "stream",
     "text": [
      "root\n",
      " |-- symbol: string (nullable = true)\n",
      " |-- volume: long (nullable = true)\n",
      " |-- price: double (nullable = true)\n",
      " |-- SYMBOL1: string (nullable = true)\n",
      " |-- time: timestamp (nullable = true)\n",
      " |-- YEAR: string (nullable = true)\n",
      " |-- MONTH: string (nullable = true)\n",
      " |-- DAY: string (nullable = true)\n",
      " |-- HOUR: string (nullable = true)\n",
      " |-- MIN: string (nullable = true)\n",
      "\n"
     ]
    }
   ],
   "source": [
    "#Year=2022/Month=03/Day=18/Hour=01/Symbol=TSLA   for every minute, 1 file\n",
    "from pyspark.sql.functions import *\n",
    "timeDf = valueDf.withColumn(\"SYMBOL1\",col(\"symbol\"))\\\n",
    "                .withColumn(\"timestamp\", col(\"timestamp\")/1000)\\\n",
    "                .withColumn(\"time\" , to_timestamp(col(\"timestamp\")))\\\n",
    "                .withColumn(\"YEAR\" ,date_format(col(\"time\"),\"yyyy\"))\\\n",
    "                .withColumn(\"MONTH\" ,date_format(col(\"time\"),\"MM\"))\\\n",
    "                .withColumn(\"DAY\" ,date_format(col(\"time\"),\"dd\"))\\\n",
    "                .withColumn(\"HOUR\" ,date_format(col(\"time\"),\"HH\"))\\\n",
    "                .withColumn(\"MIN\" ,date_format(col(\"time\"),\"mm\"))\\\n",
    "                .drop(\"timestamp\")\n",
    "timeDf.printSchema()\n",
    "\n",
    "\n"
   ]
  },
  {
   "cell_type": "code",
   "execution_count": 25,
   "id": "d833c962-b3bd-4ffb-8beb-eace6c247305",
   "metadata": {},
   "outputs": [],
   "source": [
    "\n",
    "#echoOnconsole = timeDf.writeStream.outputMode(\"update\").option(\"truncate\", False).format(\"console\").start()\n",
    "\n"
   ]
  },
  {
   "cell_type": "code",
   "execution_count": 1,
   "id": "d30af608-9ced-411e-869b-8710a0fac747",
   "metadata": {},
   "outputs": [
    {
     "ename": "NameError",
     "evalue": "name 'timeDf' is not defined",
     "output_type": "error",
     "traceback": [
      "\u001b[0;31m---------------------------------------------------------------------------\u001b[0m",
      "\u001b[0;31mNameError\u001b[0m                                 Traceback (most recent call last)",
      "\u001b[0;32m/tmp/ipykernel_310033/1774560696.py\u001b[0m in \u001b[0;36m<module>\u001b[0;34m\u001b[0m\n\u001b[0;32m----> 1\u001b[0;31m \u001b[0mtimeDf\u001b[0m\u001b[0;34m.\u001b[0m\u001b[0mwriteStream\u001b[0m\u001b[0;34m.\u001b[0m\u001b[0mtrigger\u001b[0m\u001b[0;34m(\u001b[0m\u001b[0mprocessingTime\u001b[0m\u001b[0;34m=\u001b[0m\u001b[0;34m'65 seconds'\u001b[0m\u001b[0;34m)\u001b[0m\u001b[0;34m.\u001b[0m\u001b[0mqueryName\u001b[0m\u001b[0;34m(\u001b[0m\u001b[0;34m\"Write ticks to csv1\"\u001b[0m\u001b[0;34m)\u001b[0m\u001b[0;34m.\u001b[0m\u001b[0mformat\u001b[0m\u001b[0;34m(\u001b[0m\u001b[0;34m\"csv\"\u001b[0m\u001b[0;34m)\u001b[0m\u001b[0;34m.\u001b[0m\u001b[0moption\u001b[0m\u001b[0;34m(\u001b[0m\u001b[0;34m\"path\"\u001b[0m\u001b[0;34m,\u001b[0m \u001b[0;34m\"hdfs://localhost:9000/layers/raw/csv/\"\u001b[0m\u001b[0;34m)\u001b[0m\u001b[0;34m.\u001b[0m\u001b[0moption\u001b[0m\u001b[0;34m(\u001b[0m\u001b[0;34m\"header\"\u001b[0m\u001b[0;34m,\u001b[0m \u001b[0;32mTrue\u001b[0m\u001b[0;34m)\u001b[0m\u001b[0;34m.\u001b[0m\u001b[0moption\u001b[0m\u001b[0;34m(\u001b[0m\u001b[0;34m\"checkpointLocation\"\u001b[0m\u001b[0;34m,\u001b[0m \u001b[0;34m\"file:///tmp/spark39\"\u001b[0m\u001b[0;34m)\u001b[0m\u001b[0;34m.\u001b[0m\u001b[0mpartitionBy\u001b[0m\u001b[0;34m(\u001b[0m\u001b[0;34m\"year\"\u001b[0m\u001b[0;34m,\u001b[0m \u001b[0;34m\"month\"\u001b[0m\u001b[0;34m,\u001b[0m \u001b[0;34m\"day\"\u001b[0m\u001b[0;34m,\u001b[0m \u001b[0;34m\"hour\"\u001b[0m\u001b[0;34m,\u001b[0m \u001b[0;34m\"SYMBOL1\"\u001b[0m\u001b[0;34m)\u001b[0m\u001b[0;34m.\u001b[0m\u001b[0moption\u001b[0m\u001b[0;34m(\u001b[0m\u001b[0;34m\"truncate\"\u001b[0m\u001b[0;34m,\u001b[0m \u001b[0;32mFalse\u001b[0m\u001b[0;34m)\u001b[0m\u001b[0;34m.\u001b[0m\u001b[0mstart\u001b[0m\u001b[0;34m(\u001b[0m\u001b[0;34m)\u001b[0m\u001b[0;34m\u001b[0m\u001b[0;34m\u001b[0m\u001b[0m\n\u001b[0m",
      "\u001b[0;31mNameError\u001b[0m: name 'timeDf' is not defined"
     ]
    }
   ],
   "source": [
    "timeDf.writeStream.trigger(processingTime='65 seconds').queryName(\"Write ticks to csv1\").format(\"csv\").option(\"path\", \"hdfs://localhost:9000/layers/raw/csv/\").option(\"header\", True).option(\"checkpointLocation\", \"file:///tmp/spark39\").partitionBy(\"year\", \"month\", \"day\", \"hour\", \"SYMBOL1\").option(\"truncate\", False).start()"
   ]
  },
  {
   "cell_type": "code",
   "execution_count": null,
   "id": "bdf0a3ff-3655-4ccf-a82e-699efeb0f922",
   "metadata": {},
   "outputs": [],
   "source": [
    "#def processBatchData(candleBatchDf, batch_id):\n",
    "#    print (\"process batch called\", batch_id, \"writing \", candleBatchDf.count())\n",
    "#    (\n",
    "#      candleBatchDf\n",
    "#        .select('*')\n",
    "#        .write\n",
    "#        .mode(\"append\")\n",
    "#        .format(\"csv\")\n",
    "#        .partitionBy(\"symbol\",\"YEAR\", \"MONTH\", \"DAY\",\"HOUR\",\"MIN\")\n",
    "#        .save(\"hdfs://localhost:9000/Testing4/\")\n",
    "#      )\n",
    "    \n",
    "#timeDf.writeStream.outputMode(\"append\")\\\n",
    "#.option(\"checkpointLocation\", \"file:///tmp/spark37\")\\\n",
    "#.foreachBatch(processBatchData).start()\n",
    "        \n",
    "        \n",
    "  "
   ]
  },
  {
   "cell_type": "code",
   "execution_count": null,
   "id": "0af2f741-62f1-49a3-877b-2d0a212aec1a",
   "metadata": {},
   "outputs": [
    {
     "name": "stderr",
     "output_type": "stream",
     "text": [
      "                                                                                \r"
     ]
    }
   ],
   "source": [
    "#import datetime \n",
    "#import time\n",
    "#order_time = datetime.datetime.now()\n",
    "#timestamp = int(order_time.timestamp() * 1000)\n",
    "#print(timestamp)\n",
    "#print(order_time)"
   ]
  },
  {
   "cell_type": "code",
   "execution_count": null,
   "id": "fbd6b60b-1207-49c9-9389-c9b7fbbe07a8",
   "metadata": {},
   "outputs": [],
   "source": []
  },
  {
   "cell_type": "code",
   "execution_count": null,
   "id": "84a0a054-82b3-48c9-8c7d-fb7a252d1398",
   "metadata": {},
   "outputs": [],
   "source": []
  }
 ],
 "metadata": {
  "kernelspec": {
   "display_name": "Python 3 (ipykernel)",
   "language": "python",
   "name": "python3"
  },
  "language_info": {
   "codemirror_mode": {
    "name": "ipython",
    "version": 3
   },
   "file_extension": ".py",
   "mimetype": "text/x-python",
   "name": "python",
   "nbconvert_exporter": "python",
   "pygments_lexer": "ipython3",
   "version": "3.7.12"
  }
 },
 "nbformat": 4,
 "nbformat_minor": 5
}
