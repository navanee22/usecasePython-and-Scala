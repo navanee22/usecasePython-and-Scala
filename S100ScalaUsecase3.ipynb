{
 "cells": [
  {
   "cell_type": "code",
   "execution_count": 2,
   "id": "ebb534b1-be6e-4a54-b7b1-2b64bfddf873",
   "metadata": {
    "collapsed": true,
    "jupyter": {
     "outputs_hidden": true
    },
    "tags": []
   },
   "outputs": [
    {
     "name": "stdout",
     "output_type": "stream",
     "text": [
      "root\n",
      " |-- symbol: string (nullable = true)\n",
      " |-- volume: integer (nullable = true)\n",
      " |-- price: double (nullable = true)\n",
      " |-- time: timestamp (nullable = true)\n",
      " |-- MIN: integer (nullable = true)\n",
      " |-- YEAR: integer (nullable = true)\n",
      " |-- MONTH: integer (nullable = true)\n",
      " |-- DAY: integer (nullable = true)\n",
      " |-- HOUR: integer (nullable = true)\n",
      " |-- SYMBOL1: string (nullable = true)\n",
      "\n",
      "+------+------+-----+--------------------+---+----+-----+---+----+-------+\n",
      "|symbol|volume|price|                time|MIN|YEAR|MONTH|DAY|HOUR|SYMBOL1|\n",
      "+------+------+-----+--------------------+---+----+-----+---+----+-------+\n",
      "|MARUTI|    40| 30.0|2022-03-20 23:00:...|  0|2022|    3| 20|  23| MARUTI|\n",
      "|MARUTI|   120| 50.0|2022-03-20 23:01:...|  1|2022|    3| 20|  23| MARUTI|\n",
      "|MARUTI|   120|  6.0|2022-03-20 23:01:...|  1|2022|    3| 20|  23| MARUTI|\n",
      "|MARUTI|   120| 43.0|2022-03-20 23:01:...|  1|2022|    3| 20|  23| MARUTI|\n",
      "|MARUTI|   120| 26.0|2022-03-20 23:01:...|  1|2022|    3| 20|  23| MARUTI|\n",
      "+------+------+-----+--------------------+---+----+-----+---+----+-------+\n",
      "only showing top 5 rows\n",
      "\n"
     ]
    },
    {
     "data": {
      "text/plain": [
       "rawTickDfDf: org.apache.spark.sql.DataFrame = [symbol: string, volume: int ... 8 more fields]\n"
      ]
     },
     "execution_count": 2,
     "metadata": {},
     "output_type": "execute_result"
    }
   ],
   "source": [
    "val rawTickDfDf = spark.read.format(\"csv\")\n",
    "                .option(\"header\",true)\n",
    "                .option(\"inferSchema\",true)\n",
    "                .load(\"hdfs://localhost:9000/layers/raw/csv/\")\n",
    "rawTickDfDf.printSchema()\n",
    "rawTickDfDf.show(5)"
   ]
  },
  {
   "cell_type": "code",
   "execution_count": 5,
   "id": "8ee7de78-2c40-4ef8-a11a-7fbac523b1f6",
   "metadata": {},
   "outputs": [
    {
     "name": "stdout",
     "output_type": "stream",
     "text": [
      "+------+------+-----+--------------------+----+-----+---+-------+\n",
      "|symbol|volume|price|                time|YEAR|MONTH|DAY|SYMBOL1|\n",
      "+------+------+-----+--------------------+----+-----+---+-------+\n",
      "|MARUTI|    40| 30.0|2022-03-20 23:00:...|2022|    3| 20| MARUTI|\n",
      "|MARUTI|   120| 50.0|2022-03-20 23:01:...|2022|    3| 20| MARUTI|\n",
      "|MARUTI|   120|  6.0|2022-03-20 23:01:...|2022|    3| 20| MARUTI|\n",
      "|MARUTI|   120| 43.0|2022-03-20 23:01:...|2022|    3| 20| MARUTI|\n",
      "|MARUTI|   120| 26.0|2022-03-20 23:01:...|2022|    3| 20| MARUTI|\n",
      "+------+------+-----+--------------------+----+-----+---+-------+\n",
      "only showing top 5 rows\n",
      "\n"
     ]
    },
    {
     "data": {
      "text/plain": [
       "import org.apache.spark.sql.functions._\n",
       "filterDf: org.apache.spark.sql.DataFrame = [symbol: string, volume: int ... 6 more fields]\n"
      ]
     },
     "execution_count": 5,
     "metadata": {},
     "output_type": "execute_result"
    }
   ],
   "source": [
    "\n",
    "import org.apache.spark.sql.functions._\n",
    "//.filter( (col(\"total_ratings\") >= 100) & (col(\"avg_rating\") >=3.5) )\\\n",
    "val filterDf = rawTickDfDf.filter((col(\"price\") > 0.0 )&&(col( \"volume\" )> 0)).drop(\"HOUR\",\"MIN\")\n",
    "//#filterDf = rawTickDfDf.filter(\"(volume > 0)\")\n",
    "filterDf.show(5)"
   ]
  },
  {
   "cell_type": "code",
   "execution_count": 7,
   "id": "7fed670d-12fa-4ebf-aea6-0889754de51d",
   "metadata": {},
   "outputs": [],
   "source": [
    "filterDf.write.partitionBy(\"YEAR\", \"MONTH\", \"DAY\",\"SYMBOL1\").mode(\"overwrite\").option(\"header\", true)\n",
    "                .parquet(\"hdfs://localhost:9000/layers/raw/parquet1Scala\")"
   ]
  },
  {
   "cell_type": "code",
   "execution_count": null,
   "id": "75901112-eba2-4be1-b44e-127e88f5265c",
   "metadata": {},
   "outputs": [],
   "source": []
  }
 ],
 "metadata": {
  "kernelspec": {
   "display_name": "spylon-kernel",
   "language": "scala",
   "name": "spylon-kernel"
  },
  "language_info": {
   "codemirror_mode": "text/x-scala",
   "file_extension": ".scala",
   "help_links": [
    {
     "text": "MetaKernel Magics",
     "url": "https://metakernel.readthedocs.io/en/latest/source/README.html"
    }
   ],
   "mimetype": "text/x-scala",
   "name": "scala",
   "pygments_lexer": "scala",
   "version": "0.4.1"
  }
 },
 "nbformat": 4,
 "nbformat_minor": 5
}
