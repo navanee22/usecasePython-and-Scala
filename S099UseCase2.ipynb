{
 "cells": [
  {
   "cell_type": "code",
   "execution_count": 1,
   "id": "076d9b9f-f9ed-49bc-b878-cee52001c790",
   "metadata": {},
   "outputs": [],
   "source": [
    "import os\n",
    "# save using vs code\n",
    "SCALA_VERSION = '2.12'\n",
    "SPARK_VERSION = '3.1.3'\n",
    "# Download Kafka Jar file, this for readStream.format(\"kafka\"), \"kafka\" is a driver\n",
    "# kafka driver code is part of Maven Jar file\n",
    "# https://mvnrepository.com/artifact/org.apache.spark/spark-sql-kafka-0-10_2.12/3.1.3\n",
    "# pyspark-shell shall download the jar file behind..\n",
    "os.environ['PYSPARK_SUBMIT_ARGS'] = f'--packages org.apache.spark:spark-sql-kafka-0-10_{SCALA_VERSION}:{SPARK_VERSION} pyspark-shell'"
   ]
  },
  {
   "cell_type": "code",
   "execution_count": null,
   "id": "67855292-4e86-446f-ab81-325a2e1c3ef3",
   "metadata": {},
   "outputs": [],
   "source": []
  },
  {
   "cell_type": "code",
   "execution_count": 2,
   "id": "bff1ddeb-0674-4ca9-93de-cde70723ee27",
   "metadata": {},
   "outputs": [],
   "source": [
    "import findspark\n",
    "findspark.init()"
   ]
  },
  {
   "cell_type": "code",
   "execution_count": 3,
   "id": "c229fe10-2105-4087-993b-97a4c318e057",
   "metadata": {},
   "outputs": [
    {
     "name": "stderr",
     "output_type": "stream",
     "text": [
      "22/03/28 00:28:32 WARN Utils: Your hostname, ubuntu-virtual-machine resolves to a loopback address: 127.0.1.1; using 192.168.80.128 instead (on interface ens33)\n",
      "22/03/28 00:28:32 WARN Utils: Set SPARK_LOCAL_IP if you need to bind to another address\n"
     ]
    },
    {
     "name": "stdout",
     "output_type": "stream",
     "text": [
      ":: loading settings :: url = jar:file:/opt/spark-3.1.3-bin-hadoop2.7/jars/ivy-2.4.0.jar!/org/apache/ivy/core/settings/ivysettings.xml\n"
     ]
    },
    {
     "name": "stderr",
     "output_type": "stream",
     "text": [
      "Ivy Default Cache set to: /home/ubuntu/.ivy2/cache\n",
      "The jars for the packages stored in: /home/ubuntu/.ivy2/jars\n",
      "org.apache.spark#spark-sql-kafka-0-10_2.12 added as a dependency\n",
      ":: resolving dependencies :: org.apache.spark#spark-submit-parent-3381b926-35b3-486f-ac2f-99afb77a6583;1.0\n",
      "\tconfs: [default]\n",
      "\tfound org.apache.spark#spark-sql-kafka-0-10_2.12;3.1.3 in central\n",
      "\tfound org.apache.spark#spark-token-provider-kafka-0-10_2.12;3.1.3 in central\n",
      "\tfound org.apache.kafka#kafka-clients;2.6.0 in central\n",
      "\tfound com.github.luben#zstd-jni;1.4.8-1 in central\n",
      "\tfound org.lz4#lz4-java;1.7.1 in central\n",
      "\tfound org.xerial.snappy#snappy-java;1.1.8.2 in central\n",
      "\tfound org.slf4j#slf4j-api;1.7.30 in central\n",
      "\tfound org.spark-project.spark#unused;1.0.0 in central\n",
      "\tfound org.apache.commons#commons-pool2;2.6.2 in central\n",
      ":: resolution report :: resolve 984ms :: artifacts dl 10ms\n",
      "\t:: modules in use:\n",
      "\tcom.github.luben#zstd-jni;1.4.8-1 from central in [default]\n",
      "\torg.apache.commons#commons-pool2;2.6.2 from central in [default]\n",
      "\torg.apache.kafka#kafka-clients;2.6.0 from central in [default]\n",
      "\torg.apache.spark#spark-sql-kafka-0-10_2.12;3.1.3 from central in [default]\n",
      "\torg.apache.spark#spark-token-provider-kafka-0-10_2.12;3.1.3 from central in [default]\n",
      "\torg.lz4#lz4-java;1.7.1 from central in [default]\n",
      "\torg.slf4j#slf4j-api;1.7.30 from central in [default]\n",
      "\torg.spark-project.spark#unused;1.0.0 from central in [default]\n",
      "\torg.xerial.snappy#snappy-java;1.1.8.2 from central in [default]\n",
      "\t---------------------------------------------------------------------\n",
      "\t|                  |            modules            ||   artifacts   |\n",
      "\t|       conf       | number| search|dwnlded|evicted|| number|dwnlded|\n",
      "\t---------------------------------------------------------------------\n",
      "\t|      default     |   9   |   0   |   0   |   0   ||   9   |   0   |\n",
      "\t---------------------------------------------------------------------\n",
      ":: retrieving :: org.apache.spark#spark-submit-parent-3381b926-35b3-486f-ac2f-99afb77a6583\n",
      "\tconfs: [default]\n",
      "\t0 artifacts copied, 9 already retrieved (0kB/11ms)\n",
      "22/03/28 00:28:35 WARN NativeCodeLoader: Unable to load native-hadoop library for your platform... using builtin-java classes where applicable\n",
      "Using Spark's default log4j profile: org/apache/spark/log4j-defaults.properties\n",
      "Setting default log level to \"WARN\".\n",
      "To adjust logging level use sc.setLogLevel(newLevel). For SparkR, use setLogLevel(newLevel).\n",
      "22/03/28 00:28:39 WARN Utils: Service 'SparkUI' could not bind on port 4040. Attempting port 4041.\n"
     ]
    }
   ],
   "source": [
    "import pyspark\n",
    "from pyspark.sql import SparkSession\n",
    "spark= SparkSession.builder.master(\"local[4]\").appName(\"usecase2\").config('spark.sql.shuffle.partitions', 4).getOrCreate()\n"
   ]
  },
  {
   "cell_type": "code",
   "execution_count": 4,
   "id": "e8d57748-8ec5-40c6-80af-ae069b64fce7",
   "metadata": {},
   "outputs": [],
   "source": [
    "\n",
    "#     kafka-topics  --create --bootstrap-server localhost:9092 --replication-factor 1 --partitions 1 --topic stock-ticks \n",
    "#     kafka-console-consumer --bootstrap-server localhost:9092 --topic  stock-ticks   --from-beginning"
   ]
  },
  {
   "cell_type": "code",
   "execution_count": 5,
   "id": "a6761e12-bb0a-4a83-89a6-5a9d35eea7ce",
   "metadata": {},
   "outputs": [],
   "source": [
    "readfromkafkaDf= spark.readStream.format(\"kafka\").option(\"kafka.bootstrap.servers\", \"localhost:9092\").option(\"subscribe\", \"stock-ticks\").option(\"group-id\",\"stock-ticks-group4-nav\").load()"
   ]
  },
  {
   "cell_type": "code",
   "execution_count": 6,
   "id": "2f7924ba-9025-4bac-9396-32fcef7be41e",
   "metadata": {},
   "outputs": [
    {
     "name": "stdout",
     "output_type": "stream",
     "text": [
      "root\n",
      " |-- key: binary (nullable = true)\n",
      " |-- value: binary (nullable = true)\n",
      " |-- topic: string (nullable = true)\n",
      " |-- partition: integer (nullable = true)\n",
      " |-- offset: long (nullable = true)\n",
      " |-- timestamp: timestamp (nullable = true)\n",
      " |-- timestampType: integer (nullable = true)\n",
      "\n"
     ]
    }
   ],
   "source": [
    "readfromkafkaDf.printSchema()"
   ]
  },
  {
   "cell_type": "code",
   "execution_count": 7,
   "id": "8ff150b9-1d7b-4b6b-a767-0c5f28c1de0d",
   "metadata": {},
   "outputs": [
    {
     "name": "stdout",
     "output_type": "stream",
     "text": [
      "root\n",
      " |-- value: string (nullable = true)\n",
      " |-- timestamp: timestamp (nullable = true)\n",
      "\n"
     ]
    }
   ],
   "source": [
    "stockDf= readfromkafkaDf.selectExpr((\"CAST(value as STRING)\"),(\"timestamp\"))\n",
    "stockDf.printSchema()"
   ]
  },
  {
   "cell_type": "code",
   "execution_count": 8,
   "id": "587117b4-e2d1-4f12-b654-b2fece20ca44",
   "metadata": {},
   "outputs": [],
   "source": [
    "from pyspark.sql.types import StructField, StructType, DoubleType, StringType, LongType, TimestampType\n",
    "schema= StructType([\n",
    "    StructField(\"symbol\",StringType(),True),\n",
    "    StructField(\"volume\", LongType(), True),\n",
    "     StructField(\"price\", DoubleType(), True),\n",
    "    StructField(\"timestamp\", LongType(),  True)\n",
    "    ])"
   ]
  },
  {
   "cell_type": "code",
   "execution_count": 9,
   "id": "16ad09ca-f19e-4eb7-bd42-df459883fecb",
   "metadata": {},
   "outputs": [
    {
     "name": "stdout",
     "output_type": "stream",
     "text": [
      "root\n",
      " |-- value: struct (nullable = true)\n",
      " |    |-- symbol: string (nullable = true)\n",
      " |    |-- volume: long (nullable = true)\n",
      " |    |-- price: double (nullable = true)\n",
      " |    |-- timestamp: long (nullable = true)\n",
      " |-- timestamp: timestamp (nullable = true)\n",
      "\n"
     ]
    }
   ],
   "source": [
    "import pyspark.sql.functions as F\n",
    "stringToJsonStockDf= stockDf.withColumn(\"value\", F.from_json(\"value\",schema))\n",
    "stringToJsonStockDf.printSchema()"
   ]
  },
  {
   "cell_type": "code",
   "execution_count": 10,
   "id": "5a68e488-9f89-4c2d-b646-51214651efea",
   "metadata": {},
   "outputs": [
    {
     "name": "stdout",
     "output_type": "stream",
     "text": [
      "root\n",
      " |-- symbol: string (nullable = true)\n",
      " |-- volume: long (nullable = true)\n",
      " |-- price: double (nullable = true)\n",
      " |-- timestamp: long (nullable = true)\n",
      "\n"
     ]
    }
   ],
   "source": [
    "valueDf= stringToJsonStockDf.select(\"value.*\")\n",
    "valueDf.printSchema()"
   ]
  },
  {
   "cell_type": "code",
   "execution_count": 11,
   "id": "b9deeff4-2ed2-4844-8d74-550d73242736",
   "metadata": {},
   "outputs": [
    {
     "name": "stdout",
     "output_type": "stream",
     "text": [
      "root\n",
      " |-- symbol: string (nullable = true)\n",
      " |-- volume: long (nullable = true)\n",
      " |-- price: double (nullable = true)\n",
      " |-- time: timestamp (nullable = true)\n",
      "\n"
     ]
    }
   ],
   "source": [
    "from pyspark.sql.functions import *\n",
    "timeDf= valueDf .withColumn(\"timestamp\", col(\"timestamp\")/1000)\\\n",
    "                .withColumn(\"time\" , to_timestamp(col(\"timestamp\")))\\\n",
    "                .drop(\"timestamp\")\n",
    "timeDf.printSchema()"
   ]
  },
  {
   "cell_type": "code",
   "execution_count": 12,
   "id": "cb38e00c-6770-4dd3-b08d-eb2fccc8f7a4",
   "metadata": {},
   "outputs": [
    {
     "name": "stdout",
     "output_type": "stream",
     "text": [
      "root\n",
      " |-- symbol: string (nullable = true)\n",
      " |-- window: struct (nullable = false)\n",
      " |    |-- start: timestamp (nullable = true)\n",
      " |    |-- end: timestamp (nullable = true)\n",
      " |-- volume: long (nullable = true)\n",
      " |-- high: double (nullable = true)\n",
      " |-- low: double (nullable = true)\n",
      " |-- first: double (nullable = true)\n",
      " |-- last: double (nullable = true)\n",
      "\n"
     ]
    }
   ],
   "source": [
    "stock1minDf= timeDf.groupBy(\"symbol\", F.window(\"time\", \"60 Seconds\"))\\\n",
    "                                .agg( F.sum(\"volume\").alias(\"volume\"),\\\n",
    "                                 F.max(\"price\").alias(\"high\"),\\\n",
    "                                F.min(\"price\").alias(\"low\"),\\\n",
    "                                F.first(\"price\").alias(\"first\"),\\\n",
    "                                F.last(\"price\").alias(\"last\")\n",
    "                                    )\n",
    "stock1minDf.printSchema()       \n",
    "# echoOnconsole = stock1minDf\\\n",
    "#                 .writeStream\\\n",
    "#                 .outputMode(\"update\")\\\n",
    "#                 .format(\"console\")\\\n",
    "#                 .option(\"truncate\", False)\\\n",
    "#                 .start()\n",
    "                              "
   ]
  },
  {
   "cell_type": "code",
   "execution_count": 13,
   "id": "75cf97cc-03e1-470c-bc57-aa7cad2f1a4e",
   "metadata": {},
   "outputs": [
    {
     "name": "stdout",
     "output_type": "stream",
     "text": [
      "root\n",
      " |-- symbol: string (nullable = true)\n",
      " |-- window: struct (nullable = false)\n",
      " |    |-- start: timestamp (nullable = true)\n",
      " |    |-- end: timestamp (nullable = true)\n",
      " |-- volume: long (nullable = true)\n",
      " |-- high: double (nullable = true)\n",
      " |-- low: double (nullable = true)\n",
      " |-- first: double (nullable = true)\n",
      " |-- last: double (nullable = true)\n",
      "\n"
     ]
    }
   ],
   "source": [
    "stock3minDf= timeDf.groupBy(\"symbol\", F.window(\"time\", \"3 minutes\"))\\\n",
    "                                .agg( F.sum(\"volume\").alias(\"volume\"),\\\n",
    "                                 F.max(\"price\").alias(\"high\"),\\\n",
    "                                F.min(\"price\").alias(\"low\"),\\\n",
    "                                F.first(\"price\").alias(\"first\"),\\\n",
    "                                F.last(\"price\").alias(\"last\")\n",
    "                                    )\n",
    "stock3minDf.printSchema()       "
   ]
  },
  {
   "cell_type": "code",
   "execution_count": 14,
   "id": "89f48eea-691b-4312-95b8-1e2a3aaffacb",
   "metadata": {},
   "outputs": [
    {
     "name": "stdout",
     "output_type": "stream",
     "text": [
      "root\n",
      " |-- symbol: string (nullable = true)\n",
      " |-- window: struct (nullable = false)\n",
      " |    |-- start: timestamp (nullable = true)\n",
      " |    |-- end: timestamp (nullable = true)\n",
      " |-- volume: long (nullable = true)\n",
      " |-- high: double (nullable = true)\n",
      " |-- low: double (nullable = true)\n",
      " |-- first: double (nullable = true)\n",
      " |-- last: double (nullable = true)\n",
      "\n"
     ]
    }
   ],
   "source": [
    "stock5minDf= timeDf.groupBy(\"symbol\", F.window(\"time\", \"5 minutes\"))\\\n",
    "                                .agg( F.sum(\"volume\").alias(\"volume\"),\\\n",
    "                                 F.max(\"price\").alias(\"high\"),\\\n",
    "                                F.min(\"price\").alias(\"low\"),\\\n",
    "                                F.first(\"price\").alias(\"first\"),\\\n",
    "                                F.last(\"price\").alias(\"last\")\n",
    "                                    )\n",
    "stock5minDf.printSchema()       "
   ]
  },
  {
   "cell_type": "code",
   "execution_count": 15,
   "id": "b003c36c-3feb-44ca-8a02-96d87bfc519e",
   "metadata": {},
   "outputs": [
    {
     "name": "stdout",
     "output_type": "stream",
     "text": [
      "root\n",
      " |-- value: string (nullable = true)\n",
      "\n",
      "root\n",
      " |-- value: string (nullable = true)\n",
      "\n",
      "root\n",
      " |-- value: string (nullable = true)\n",
      "\n"
     ]
    }
   ],
   "source": [
    "stock1minDfTojsonDf= stock1minDf.drop(\"window\").selectExpr(\"to_json(struct(*)) AS value\")\n",
    "stock1minDfTojsonDf.printSchema()\n",
    "\n",
    "stock3minDfTojsonDf= stock3minDf.drop(\"window\").selectExpr(\"to_json(struct(*)) AS value\")\n",
    "stock3minDfTojsonDf.printSchema()\n",
    "\n",
    "stock5minDfTojsonDf= stock5minDf.drop(\"window\").selectExpr(\"to_json(struct(*)) AS value\")\n",
    "stock5minDfTojsonDf.printSchema()"
   ]
  },
  {
   "cell_type": "code",
   "execution_count": 16,
   "id": "336d7e0b-ed0c-4ece-b074-1d5edd127ec0",
   "metadata": {},
   "outputs": [
    {
     "data": {
      "text/plain": [
       "<pyspark.sql.streaming.StreamingQuery at 0x7fe80c1f9390>"
      ]
     },
     "execution_count": 16,
     "metadata": {},
     "output_type": "execute_result"
    },
    {
     "name": "stderr",
     "output_type": "stream",
     "text": [
      "22/03/28 00:29:00 WARN NetworkClient: [Producer clientId=producer-1] Error while fetching metadata with correlation id 1 : {stock-ticks-1min=LEADER_NOT_AVAILABLE}\n",
      "22/03/28 00:29:00 WARN NetworkClient: [Producer clientId=producer-1] Error while fetching metadata with correlation id 3 : {stock-ticks-3min=LEADER_NOT_AVAILABLE, stock-ticks-1min=LEADER_NOT_AVAILABLE}\n",
      "22/03/28 00:29:00 WARN NetworkClient: [Producer clientId=producer-1] Error while fetching metadata with correlation id 4 : {stock-ticks-5min=LEADER_NOT_AVAILABLE}\n",
      "                                                                                \r"
     ]
    }
   ],
   "source": [
    "stock1minDfTojsonDf.writeStream\\\n",
    "             .format(\"kafka\")\\\n",
    "            .outputMode(\"update\")\\\n",
    "             .option(\"kafka.bootstrap.servers\", \"localhost:9092\")\\\n",
    "            .option(\"topic\", \"stock-ticks-1min\")\\\n",
    "            .option(\"checkpointLocation\", \"file:///tmp/spark6\")\\\n",
    "            .start()\n",
    "\n",
    "\n",
    "stock3minDfTojsonDf.writeStream\\\n",
    "             .format(\"kafka\")\\\n",
    "            .outputMode(\"update\")\\\n",
    "             .option(\"kafka.bootstrap.servers\", \"localhost:9092\")\\\n",
    "            .option(\"topic\", \"stock-ticks-3min\")\\\n",
    "            .option(\"checkpointLocation\", \"file:///tmp/spark7\")\\\n",
    "            .start()\n",
    "\n",
    "stock5minDfTojsonDf.writeStream\\\n",
    "             .format(\"kafka\")\\\n",
    "            .outputMode(\"update\")\\\n",
    "             .option(\"kafka.bootstrap.servers\", \"localhost:9092\")\\\n",
    "            .option(\"topic\", \"stock-ticks-5min\")\\\n",
    "            .option(\"checkpointLocation\", \"file:///tmp/spark8\")\\\n",
    "            .start()"
   ]
  }
 ],
 "metadata": {
  "kernelspec": {
   "display_name": "Python 3 (ipykernel)",
   "language": "python",
   "name": "python3"
  },
  "language_info": {
   "codemirror_mode": {
    "name": "ipython",
    "version": 3
   },
   "file_extension": ".py",
   "mimetype": "text/x-python",
   "name": "python",
   "nbconvert_exporter": "python",
   "pygments_lexer": "ipython3",
   "version": "3.7.12"
  }
 },
 "nbformat": 4,
 "nbformat_minor": 5
}
